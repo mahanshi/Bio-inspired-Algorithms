{
 "cells": [
  {
   "cell_type": "markdown",
   "metadata": {},
   "source": [
    "#Getting input "
   ]
  },
  {
   "cell_type": "code",
   "execution_count": 5,
   "metadata": {},
   "outputs": [
    {
     "name": "stdout",
     "output_type": "stream",
     "text": [
      "106, 187, 914, 106, 33, 18, 402, 230, 507, 495, 609, 627, 346, 295, 312, 107, 716, 88, 106, 248, 689, 115, 106, 218, 672, 618, 117, 805, 306, 753, 414, 84, 557, 266, 409, 144, 69, 116, 333, 88, 264, 967, 180, 251, 71, 788, 581, 555, 988, 292, 60, 125, 532, 405, 170, 249, 181, 686, 283, 424, 933, 23, 99, 135, 246, 337, 648, 753, 354, 518, 45, 286, 315, 370, 557, 463, 312, 284, 61, 412, 457, 118, 268, 123, 232, 788, 678, 371, 171, 557, 549, 286, 356, 92, 148, 515, 301, 632, 987, 660, 868, 92, 544, 211, 70, 75, 145, 125, 278, 441, 368, 351, 119, 662, 653, 186, 517, 43, 224, 506, 592, 501, 149, 79, 241, 53, 80, 437, 46, 78, 149, 525, 149, 126, 365, 460, 280, 266, 109, 86\n",
      "[106, 187, 914, 106, 33, 18, 402, 230, 507, 495, 609, 627, 346, 295, 312, 107, 716, 88, 106, 248, 689, 115, 106, 218, 672, 618, 117, 805, 306, 753, 414, 84, 557, 266, 409, 144, 69, 116, 333, 88, 264, 967, 180, 251, 71, 788, 581, 555, 988, 292, 60, 125, 532, 405, 170, 249, 181, 686, 283, 424, 933, 23, 99, 135, 246, 337, 648, 753, 354, 518, 45, 286, 315, 370, 557, 463, 312, 284, 61, 412, 457, 118, 268, 123, 232, 788, 678, 371, 171, 557, 549, 286, 356, 92, 148, 515, 301, 632, 987, 660, 868, 92, 544, 211, 70, 75, 145, 125, 278, 441, 368, 351, 119, 662, 653, 186, 517, 43, 224, 506, 592, 501, 149, 79, 241, 53, 80, 437, 46, 78, 149, 525, 149, 126, 365, 460, 280, 266, 109, 86]\n"
     ]
    }
   ],
   "source": [
    "def inp(a):\n",
    "    if a: return Requests\n",
    "    s = list(map(int, input().split(',')))\n",
    "    return s\n",
    "    \n",
    "Stock_Length = 100\n",
    "Requests = inp(0)\n",
    "idx = [i for i in range(len(Requests))]\n",
    "print(Requests)"
   ]
  },
  {
   "cell_type": "markdown",
   "metadata": {},
   "source": [
    "#Cost function"
   ]
  },
  {
   "cell_type": "code",
   "execution_count": 6,
   "metadata": {},
   "outputs": [
    {
     "name": "stdout",
     "output_type": "stream",
     "text": [
      "5\n"
     ]
    }
   ],
   "source": [
    "def cost(arr, length):\n",
    "    cur = 0\n",
    "    cnt = 1\n",
    "    for i in arr:\n",
    "        if cur + i > length:\n",
    "            cur = i\n",
    "            cnt += 1\n",
    "        else:\n",
    "            cur += i\n",
    "    return cnt\n",
    "print(cost([1,2,3,4,2,5,2,6], 6))\n",
    "    "
   ]
  },
  {
   "cell_type": "markdown",
   "metadata": {},
   "source": [
    "#Neighbor "
   ]
  },
  {
   "cell_type": "code",
   "execution_count": 7,
   "metadata": {},
   "outputs": [
    {
     "name": "stdout",
     "output_type": "stream",
     "text": [
      "[1, 2, 5, 4, 3]\n"
     ]
    }
   ],
   "source": [
    "import math, random\n",
    "def neighbor(arr):\n",
    "    a = random.randint(0, len(arr)-1)\n",
    "    b = (a + random.randint(1, len(arr)-1)) % len(arr)\n",
    "    idx[a], idx[b] = idx[b], idx[a]\n",
    "    arr[a] ,arr[b] = arr[b], arr[a]\n",
    "    return arr\n",
    "print(neighbor([1,2,3,4,5]))"
   ]
  },
  {
   "cell_type": "markdown",
   "metadata": {},
   "source": [
    "#drawing the progress and printing res"
   ]
  },
  {
   "cell_type": "code",
   "execution_count": 15,
   "metadata": {},
   "outputs": [],
   "source": [
    "def draw(progress):\n",
    "    import matplotlib.pyplot as plt\n",
    "    plt.plot(progress)\n",
    "    plt.ylabel('Cost')\n",
    "    plt.xlabel('Iteration')\n",
    "    plt.show()\n",
    "    \n",
    "def Print(arr, idx, length):\n",
    "    print(best_cost)\n",
    "    cur = 0\n",
    "    cnt = 1\n",
    "    j = 0\n",
    "    print(\"stock 1: \", end = '')\n",
    "    for i in arr:\n",
    "        if cur + i > length:\n",
    "            print('\\b\\b')\n",
    "            print(\"stock \" + str(cnt + 1) + \": \", end = '')\n",
    "            cur = i\n",
    "            cnt += 1\n",
    "        else:\n",
    "            cur += i\n",
    "            \n",
    "        print(idx[j], end = ', ')\n",
    "        j += 1\n",
    "    print('\\b\\b')"
   ]
  },
  {
   "cell_type": "markdown",
   "metadata": {},
   "source": [
    "#Main function\n",
    "there is a permutation (starting from input order Requests) and for neighboring function i tried both swappingrandom indexes and shuffling the whole permutation. for cost function i assume we start from the first element of permutation, moving forward and taking as much as we can in the permutation order. if we couldn't take anymore we start a new stock from there..."
   ]
  },
  {
   "cell_type": "code",
   "execution_count": 88,
   "metadata": {},
   "outputs": [],
   "source": [
    "import time\n",
    "def simulated_anealing(Requests, Stock_Length, T, a, End):\n",
    "    best = Requests\n",
    "    global best_cost\n",
    "    best_cost = cost(Requests, Stock_Length)\n",
    "    \n",
    "    cur = Requests\n",
    "    cost_cur = cost(cur, Stock_Length)\n",
    "    progress = [cost_cur]\n",
    "    itr = 1\n",
    "    \n",
    "    while best_cost > End: #itr < 5000:\n",
    "        \n",
    "        new = neighbor(cur)\n",
    "        cost_new = cost(new, Stock_Length)\n",
    "        if cost_new < best_cost:\n",
    "            best_cost = cost_new\n",
    "            best = cur\n",
    "        #time.sleep(0.01)\n",
    "        d_cost = cost_new - cost_cur\n",
    "        #print(itr,' ',math.exp(-d_cost / T), cost_cur, end = '\\r', flush=True); itr+=1;\n",
    "        print(itr,' ', best_cost, end = '\\r', flush=True); itr+=1;\n",
    "        if d_cost <= 0:\n",
    "            cur = new\n",
    "            cost_cur = cost_new\n",
    "        else:\n",
    "            q = random.random()\n",
    "            if q < math.exp(-d_cost / T):\n",
    "                #print(\":D\")\n",
    "                cur = new\n",
    "                cost_cur = cost_new\n",
    "        T *= a\n",
    "        progress.append(cost_cur)\n",
    "    draw(progress)\n",
    "    "
   ]
  },
  {
   "cell_type": "markdown",
   "metadata": {},
   "source": [
    "At first it seems it can't even get to the right answer for the sample 1 (it stucks in 59) "
   ]
  },
  {
   "cell_type": "code",
   "execution_count": 66,
   "metadata": {},
   "outputs": [
    {
     "name": "stdout",
     "output_type": "stream",
     "text": [
      "999 1.6272358623287597e-296 5962 1.0 63 0.8806068827787307 65 1.0 65 1.0 62 62 2.0177045767166013 63 0.24899188087809063 63 1.0 63 9.928179411896092e-09 60 1.9443406998846718e-11 6060 1.3689132707859294e-10 60 1.387829168476576e-13 60 2.2271142761971253e-15 60 3.4135638574221184e-22 60 3.1730361377430974e-30 60\r"
     ]
    },
    {
     "data": {
      "image/png": "[encoded data removed]",
      "text/plain": [
       "<Figure size 432x288 with 1 Axes>"
      ]
     },
     "metadata": {
      "needs_background": "light"
     },
     "output_type": "display_data"
    }
   ],
   "source": [
    "Stock_Length = 1000\n",
    "Requests = inp(1)\n",
    "simulated_anealing(Requests,Stock_Length, 100, 0.99, 51)"
   ]
  },
  {
   "cell_type": "markdown",
   "metadata": {},
   "source": [
    "at first T was around 100 and the neighbor permutation became constant in few iterations. so i changed it to 1000 and still it wasn't enough..."
   ]
  },
  {
   "cell_type": "code",
   "execution_count": 31,
   "metadata": {},
   "outputs": [
    {
     "name": "stdout",
     "output_type": "stream",
     "text": [
      "57\r"
     ]
    },
    {
     "data": {
      "image/png": "[encoded data removed]",
      "text/plain": [
       "<Figure size 432x288 with 1 Axes>"
      ]
     },
     "metadata": {
      "needs_background": "light"
     },
     "output_type": "display_data"
    },
    {
     "name": "stdout",
     "output_type": "stream",
     "text": [
      "57\n",
      "stock 1: 0, 1, 2, 3, 4, \b\b\n",
      "stock 2: 5, 6, \b\b\n",
      "stock 3: 7, \b\b\n",
      "stock 4: 8, 9, 10, 11, 12, 13, \b\b\n",
      "stock 5: 14, 15, \b\b\n",
      "stock 6: 16, 17, 18, 19, \b\b\n",
      "stock 7: 20, 21, 22, 23, \b\b\n",
      "stock 8: 24, 25, 26, \b\b\n",
      "stock 9: 27, 28, 29, \b\b\n",
      "stock 10: 30, 31, 32, \b\b\n",
      "stock 11: 33, \b\b\n",
      "stock 12: 34, \b\b\n",
      "stock 13: 35, 36, 37, \b\b\n",
      "stock 14: 38, 39, 40, \b\b\n",
      "stock 15: 41, \b\b\n",
      "stock 16: 42, 43, 44, \b\b\n",
      "stock 17: 45, 46, \b\b\n",
      "stock 18: 47, 48, \b\b\n",
      "stock 19: 49, \b\b\n",
      "stock 20: 50, 51, 52, \b\b\n",
      "stock 21: 53, 54, \b\b\n",
      "stock 22: 55, 56, 57, 58, 59, \b\b\n",
      "stock 23: 60, 61, 62, 63, \b\b\n",
      "stock 24: 64, 65, 66, \b\b\n",
      "stock 25: 67, 68, 69, \b\b\n",
      "stock 26: 70, 71, 72, 73, \b\b\n",
      "stock 27: 74, \b\b\n",
      "stock 28: 75, \b\b\n",
      "stock 29: 76, 77, \b\b\n",
      "stock 30: 78, 79, 80, \b\b\n",
      "stock 31: 81, 82, \b\b\n",
      "stock 32: 83, 84, 85, \b\b\n",
      "stock 33: 86, \b\b\n",
      "stock 34: 87, 88, \b\b\n",
      "stock 35: 89, 90, \b\b\n",
      "stock 36: 91, 92, 93, \b\b\n",
      "stock 37: 94, \b\b\n",
      "stock 38: 95, 96, \b\b\n",
      "stock 39: 97, 98, 99, \b\b\n",
      "stock 40: 100, 101, 102, \b\b\n",
      "stock 41: 103, \b\b\n",
      "stock 42: 104, 105, 106, \b\b\n",
      "stock 43: 107, 108, \b\b\n",
      "stock 44: 109, \b\b\n",
      "stock 45: 110, 111, \b\b\n",
      "stock 46: 112, \b\b\n",
      "stock 47: 113, \b\b\n",
      "stock 48: 114, 115, \b\b\n",
      "stock 49: 116, 117, \b\b\n",
      "stock 50: 118, 119, 120, 121, \b\b\n",
      "stock 51: 122, 123, 124, \b\b\n",
      "stock 52: 125, 126, 127, \b\b\n",
      "stock 53: 128, 129, \b\b\n",
      "stock 54: 130, 131, \b\b\n",
      "stock 55: 132, 133, \b\b\n",
      "stock 56: 134, 135, 136, 137, \b\b\n",
      "stock 57: 138, 139, \b\b\n",
      "Execution Time:  7.654640197753906\n"
     ]
    }
   ],
   "source": [
    "def neighbor2(arr):\n",
    "    random.shuffle(arr)\n",
    "    return arr\n",
    "\n",
    "def simulated_anealing(Requests, Stock_Length, T, a, End):\n",
    "    best = Requests\n",
    "    global best_cost\n",
    "    best_cost = cost(Requests, Stock_Length)\n",
    "    cur = Requests\n",
    "    cost_cur = cost(cur, Stock_Length)\n",
    "    progress = [cost_cur]\n",
    "    itr = 1\n",
    "    \n",
    "    while best_cost > End and itr < 5000:\n",
    "        \n",
    "        new = neighbor2(cur)\n",
    "        cost_new = cost(new, Stock_Length)\n",
    "        if cost_new < best_cost:\n",
    "            best_cost = cost_new\n",
    "            best = cur.copy()\n",
    "        #time.sleep(0.01)\n",
    "        d_cost = cost_new - cost_cur\n",
    "        #print(itr,' ',math.exp(-d_cost / T), cost_cur, end = '\\r', flush=True); itr+=1;\n",
    "        print(best_cost, end = '\\r', flush=True); itr+=1;\n",
    "        if d_cost <= 0:\n",
    "            cur = new\n",
    "            cost_cur = cost_new\n",
    "        else:\n",
    "            q = random.random()\n",
    "            if q < math.exp(-d_cost / T):\n",
    "                #print(\":D\")\n",
    "                cur = new\n",
    "                cost_cur = cost_new\n",
    "        T *= a\n",
    "        progress.append(cost_cur)\n",
    "    draw(progress)\n",
    "    Print(best, idx, Stock_Length)\n",
    "Stock_Length = 1000\n",
    "Requests = inp(1)\n",
    "idx = [i for i in range(len(Requests))]\n",
    "t1 = time.time()\n",
    "simulated_anealing(Requests,Stock_Length, 1000, 0.9, 55)\n",
    "print(\"Execution Time: \", time.time() - t1)"
   ]
  },
  {
   "cell_type": "markdown",
   "metadata": {},
   "source": [
    "then for increasing a (decreasing rate constant) for increasing the time for higher exploration... so it looks like it never get cold in this number of iterations..."
   ]
  },
  {
   "cell_type": "code",
   "execution_count": 33,
   "metadata": {},
   "outputs": [
    {
     "name": "stdout",
     "output_type": "stream",
     "text": [
      "57\r"
     ]
    },
    {
     "data": {
      "image/png": "[encoded data removed]",
      "text/plain": [
       "<Figure size 432x288 with 1 Axes>"
      ]
     },
     "metadata": {
      "needs_background": "light"
     },
     "output_type": "display_data"
    },
    {
     "name": "stdout",
     "output_type": "stream",
     "text": [
      "57\n",
      "stock 1: 0, \b\b\n",
      "stock 2: 1, 2, 3, 4, \b\b\n",
      "stock 3: 5, 6, \b\b\n",
      "stock 4: 7, \b\b\n",
      "stock 5: 8, 9, \b\b\n",
      "stock 6: 10, 11, \b\b\n",
      "stock 7: 12, \b\b\n",
      "stock 8: 13, \b\b\n",
      "stock 9: 14, 15, 16, 17, 18, 19, \b\b\n",
      "stock 10: 20, 21, \b\b\n",
      "stock 11: 22, 23, 24, \b\b\n",
      "stock 12: 25, 26, \b\b\n",
      "stock 13: 27, 28, \b\b\n",
      "stock 14: 29, 30, 31, \b\b\n",
      "stock 15: 32, 33, \b\b\n",
      "stock 16: 34, 35, \b\b\n",
      "stock 17: 36, 37, 38, \b\b\n",
      "stock 18: 39, 40, 41, 42, 43, 44, \b\b\n",
      "stock 19: 45, 46, 47, \b\b\n",
      "stock 20: 48, \b\b\n",
      "stock 21: 49, 50, 51, \b\b\n",
      "stock 22: 52, 53, 54, 55, \b\b\n",
      "stock 23: 56, \b\b\n",
      "stock 24: 57, 58, \b\b\n",
      "stock 25: 59, 60, 61, \b\b\n",
      "stock 26: 62, \b\b\n",
      "stock 27: 63, 64, 65, \b\b\n",
      "stock 28: 66, 67, 68, 69, \b\b\n",
      "stock 29: 70, 71, 72, \b\b\n",
      "stock 30: 73, 74, \b\b\n",
      "stock 31: 75, 76, \b\b\n",
      "stock 32: 77, 78, 79, \b\b\n",
      "stock 33: 80, 81, \b\b\n",
      "stock 34: 82, 83, 84, 85, 86, \b\b\n",
      "stock 35: 87, \b\b\n",
      "stock 36: 88, 89, \b\b\n",
      "stock 37: 90, 91, \b\b\n",
      "stock 38: 92, 93, 94, \b\b\n",
      "stock 39: 95, 96, 97, 98, 99, \b\b\n",
      "stock 40: 100, \b\b\n",
      "stock 41: 101, 102, \b\b\n",
      "stock 42: 103, 104, \b\b\n",
      "stock 43: 105, 106, \b\b\n",
      "stock 44: 107, 108, 109, 110, \b\b\n",
      "stock 45: 111, 112, 113, \b\b\n",
      "stock 46: 114, \b\b\n",
      "stock 47: 115, 116, \b\b\n",
      "stock 48: 117, 118, 119, \b\b\n",
      "stock 49: 120, 121, 122, 123, 124, \b\b\n",
      "stock 50: 125, 126, 127, \b\b\n",
      "stock 51: 128, \b\b\n",
      "stock 52: 129, 130, \b\b\n",
      "stock 53: 131, \b\b\n",
      "stock 54: 132, 133, 134, 135, \b\b\n",
      "stock 55: 136, 137, \b\b\n",
      "stock 56: 138, \b\b\n",
      "stock 57: 139, \b\b\n",
      "Execution Time:  7.223533391952515\n"
     ]
    }
   ],
   "source": [
    "Stock_Length = 1000\n",
    "Requests = inp(1)\n",
    "idx = [i for i in range(len(Requests))]\n",
    "t1 = time.time()\n",
    "simulated_anealing(Requests,Stock_Length, 1000, 0.9995, 55)\n",
    "print(\"Execution Time: \", time.time() - t1)"
   ]
  },
  {
   "cell_type": "markdown",
   "metadata": {},
   "source": [
    "First input result:"
   ]
  },
  {
   "cell_type": "code",
   "execution_count": 30,
   "metadata": {},
   "outputs": [
    {
     "name": "stdout",
     "output_type": "stream",
     "text": [
      "56\r"
     ]
    },
    {
     "data": {
      "image/png": "[encoded data removed]",
      "text/plain": [
       "<Figure size 432x288 with 1 Axes>"
      ]
     },
     "metadata": {
      "needs_background": "light"
     },
     "output_type": "display_data"
    },
    {
     "name": "stdout",
     "output_type": "stream",
     "text": [
      "56\n",
      "stock 1: 0, 1, \b\b\n",
      "stock 2: 2, 3, \b\b\n",
      "stock 3: 4, 5, \b\b\n",
      "stock 4: 6, \b\b\n",
      "stock 5: 7, 8, \b\b\n",
      "stock 6: 9, 10, 11, 12, \b\b\n",
      "stock 7: 13, 14, \b\b\n",
      "stock 8: 15, 16, \b\b\n",
      "stock 9: 17, 18, 19, \b\b\n",
      "stock 10: 20, 21, 22, \b\b\n",
      "stock 11: 23, 24, \b\b\n",
      "stock 12: 25, 26, \b\b\n",
      "stock 13: 27, 28, \b\b\n",
      "stock 14: 29, 30, 31, \b\b\n",
      "stock 15: 32, 33, \b\b\n",
      "stock 16: 34, \b\b\n",
      "stock 17: 35, 36, 37, \b\b\n",
      "stock 18: 38, 39, 40, 41, \b\b\n",
      "stock 19: 42, 43, \b\b\n",
      "stock 20: 44, 45, 46, \b\b\n",
      "stock 21: 47, 48, \b\b\n",
      "stock 22: 49, \b\b\n",
      "stock 23: 50, \b\b\n",
      "stock 24: 51, 52, \b\b\n",
      "stock 25: 53, 54, 55, \b\b\n",
      "stock 26: 56, 57, \b\b\n",
      "stock 27: 58, 59, \b\b\n",
      "stock 28: 60, 61, \b\b\n",
      "stock 29: 62, 63, 64, 65, 66, 67, \b\b\n",
      "stock 30: 68, 69, 70, 71, \b\b\n",
      "stock 31: 72, 73, 74, \b\b\n",
      "stock 32: 75, \b\b\n",
      "stock 33: 76, 77, \b\b\n",
      "stock 34: 78, 79, 80, \b\b\n",
      "stock 35: 81, 82, \b\b\n",
      "stock 36: 83, 84, \b\b\n",
      "stock 37: 85, 86, 87, 88, \b\b\n",
      "stock 38: 89, 90, \b\b\n",
      "stock 39: 91, 92, \b\b\n",
      "stock 40: 93, 94, 95, 96, \b\b\n",
      "stock 41: 97, 98, 99, \b\b\n",
      "stock 42: 100, \b\b\n",
      "stock 43: 101, \b\b\n",
      "stock 44: 102, 103, 104, 105, \b\b\n",
      "stock 45: 106, 107, 108, \b\b\n",
      "stock 46: 109, 110, \b\b\n",
      "stock 47: 111, 112, 113, \b\b\n",
      "stock 48: 114, \b\b\n",
      "stock 49: 115, 116, 117, 118, 119, \b\b\n",
      "stock 50: 120, 121, 122, \b\b\n",
      "stock 51: 123, 124, \b\b\n",
      "stock 52: 125, 126, 127, \b\b\n",
      "stock 53: 128, 129, \b\b\n",
      "stock 54: 130, 131, 132, 133, 134, 135, \b\b\n",
      "stock 55: 136, 137, \b\b\n",
      "stock 56: 138, 139, \b\b\n",
      "Execution Time:  72.80063033103943\n"
     ]
    }
   ],
   "source": [
    "import time\n",
    "\n",
    "def neighbor2(arr):\n",
    "    random.shuffle(arr)\n",
    "    return arr\n",
    "\n",
    "def simulated_anealing(Requests, Stock_Length, T, a, End):\n",
    "    best = Requests\n",
    "    global best_cost\n",
    "    best_cost = cost(Requests, Stock_Length)\n",
    "    cur = Requests\n",
    "    cost_cur = cost(cur, Stock_Length)\n",
    "    progress = [cost_cur]\n",
    "    itr = 1\n",
    "    \n",
    "    while best_cost > End and itr < 50000:\n",
    "        \n",
    "        new = neighbor2(cur)\n",
    "        cost_new = cost(new, Stock_Length)\n",
    "        if cost_new < best_cost:\n",
    "            best_cost = cost_new\n",
    "            best = cur.copy()\n",
    "        #time.sleep(0.01)\n",
    "        d_cost = cost_new - cost_cur\n",
    "        #print(itr,' ',math.exp(-d_cost / T), cost_cur, end = '\\r', flush=True); itr+=1;\n",
    "        print(best_cost, end = '\\r', flush=True); itr+=1;\n",
    "        if d_cost <= 0:\n",
    "            cur = new\n",
    "            cost_cur = cost_new\n",
    "        else:\n",
    "            q = random.random()\n",
    "            if q < math.exp(-d_cost / T):\n",
    "                #print(\":D\")\n",
    "                cur = new\n",
    "                cost_cur = cost_new\n",
    "        T *= a\n",
    "        progress.append(cost_cur)\n",
    "    draw(progress)\n",
    "    Print(best, idx, Stock_Length)\n",
    "Stock_Length = 1000\n",
    "Requests = inp(1)\n",
    "idx = [i for i in range(len(Requests))]\n",
    "t1 = time.time()\n",
    "simulated_anealing(Requests,Stock_Length, 100000, 0.9995, 55)\n",
    "print(\"Execution Time: \", time.time() - t1)"
   ]
  },
  {
   "cell_type": "code",
   "execution_count": 36,
   "metadata": {},
   "outputs": [
    {
     "name": "stdout",
     "output_type": "stream",
     "text": [
      "1520, 2150, 1880, 1520, 2150, 1820, 2150, 2050, 2140, 2140, 1710, 1820, 2150, 1380, 2140, 2150, 1820, 2050, 2100, 1380, 1880, 1880, 1520, 1930, 1710, 2140, 1880, 2050, 1710, 2150, 2000, 1710, 1820, 1560, 2150, 1930, 2000, 1880, 1380, 2050, 1930, 1710, 1820, 1710, 2200, 2050, 1560, 1930, 1930, 2050, 1560, 1380, 1520, 1520, 1520, 2100, 1560, 1520, 2150, 2000, 2000, 2140, 1560, 1880, 2200, 2140, 1930, 2000, 2050, 1520, 1880, 2200, 1520, 1930, 1520, 1710, 1710, 2150, 2100, 2200, 1820, 1820, 2200, 1380, 1880, 1880, 1710, 2140, 1820, 2100, 1380, 1880, 2140, 1820, 1930, 1880, 1880, 1520, 2000, 2050, 2140, 1380, 1380, 1380, 2150, 1380, 2150, 1820, 1820, 2140, 1560, 1710, 1520, 1560, 2140, 2200, 2200, 1880, 2200, 1710, 1930, 2100, 2200, 1820, 1520, 2140, 2100, 1380, 1520, 2140, 2050, 2100, 2200, 2140, 1820, 1820, 1380, 1880, 2140, 2150, 1930, 2100, 2150, 1380, 1710, 1380, 1380, 1520, 2200, 1380, 1560, 1930, 1820, 1930, 1380, 2140, 1520, 2050, 1710, 1880, 1560, 1520, 2150, 1880, 1520, 2100, 1560, 1710, 2150, 1930, 2000, 1930, 1520, 2200, 2200, 1560, 1820, 2100, 2150, 1880, 2000, 1820, 1380, 1930, 2100, 1880, 2200, 1560, 1380, 2100, 1520, 2000, 2200, 2000, 2100, 2050, 1930, 1520, 2200, 2200, 2050, 2100, 1380, 1930, 1820, 1520, 2150, 1520, 1520, 1380, 2200, 1380, 1930, 1930, 2150, 1930, 2200, 2200, 1520\n",
      "84\r"
     ]
    },
    {
     "data": {
      "image/png": "[encoded data removed]",
      "text/plain": [
       "<Figure size 432x288 with 1 Axes>"
      ]
     },
     "metadata": {
      "needs_background": "light"
     },
     "output_type": "display_data"
    },
    {
     "name": "stdout",
     "output_type": "stream",
     "text": [
      "84\n",
      "stock 1: 0, 1, 2, \b\b\n",
      "stock 2: 3, 4, 5, \b\b\n",
      "stock 3: 6, 7, 8, \b\b\n",
      "stock 4: 9, 10, 11, \b\b\n",
      "stock 5: 12, 13, \b\b\n",
      "stock 6: 14, 15, 16, \b\b\n",
      "stock 7: 17, 18, \b\b\n",
      "stock 8: 19, 20, \b\b\n",
      "stock 9: 21, 22, 23, \b\b\n",
      "stock 10: 24, 25, 26, \b\b\n",
      "stock 11: 27, 28, 29, \b\b\n",
      "stock 12: 30, 31, 32, \b\b\n",
      "stock 13: 33, 34, 35, \b\b\n",
      "stock 14: 36, 37, 38, \b\b\n",
      "stock 15: 39, 40, \b\b\n",
      "stock 16: 41, 42, 43, \b\b\n",
      "stock 17: 44, 45, 46, \b\b\n",
      "stock 18: 47, 48, 49, \b\b\n",
      "stock 19: 50, 51, \b\b\n",
      "stock 20: 52, 53, \b\b\n",
      "stock 21: 54, 55, 56, \b\b\n",
      "stock 22: 57, 58, 59, \b\b\n",
      "stock 23: 60, 61, \b\b\n",
      "stock 24: 62, 63, \b\b\n",
      "stock 25: 64, 65, 66, \b\b\n",
      "stock 26: 67, 68, 69, \b\b\n",
      "stock 27: 70, 71, \b\b\n",
      "stock 28: 72, 73, 74, \b\b\n",
      "stock 29: 75, 76, 77, \b\b\n",
      "stock 30: 78, 79, 80, \b\b\n",
      "stock 31: 81, 82, \b\b\n",
      "stock 32: 83, 84, \b\b\n",
      "stock 33: 85, 86, 87, \b\b\n",
      "stock 34: 88, 89, \b\b\n",
      "stock 35: 90, 91, \b\b\n",
      "stock 36: 92, 93, \b\b\n",
      "stock 37: 94, 95, \b\b\n",
      "stock 38: 96, 97, 98, \b\b\n",
      "stock 39: 99, 100, \b\b\n",
      "stock 40: 101, 102, 103, \b\b\n",
      "stock 41: 104, 105, \b\b\n",
      "stock 42: 106, 107, 108, \b\b\n",
      "stock 43: 109, 110, 111, \b\b\n",
      "stock 44: 112, 113, 114, \b\b\n",
      "stock 45: 115, 116, \b\b\n",
      "stock 46: 117, 118, 119, \b\b\n",
      "stock 47: 120, 121, 122, \b\b\n",
      "stock 48: 123, 124, \b\b\n",
      "stock 49: 125, 126, 127, \b\b\n",
      "stock 50: 128, 129, 130, \b\b\n",
      "stock 51: 131, 132, \b\b\n",
      "stock 52: 133, 134, 135, \b\b\n",
      "stock 53: 136, 137, \b\b\n",
      "stock 54: 138, 139, 140, \b\b\n",
      "stock 55: 141, 142, 143, \b\b\n",
      "stock 56: 144, 145, 146, \b\b\n",
      "stock 57: 147, 148, 149, \b\b\n",
      "stock 58: 150, 151, 152, \b\b\n",
      "stock 59: 153, 154, 155, \b\b\n",
      "stock 60: 156, 157, 158, \b\b\n",
      "stock 61: 159, 160, \b\b\n",
      "stock 62: 161, 162, 163, \b\b\n",
      "stock 63: 164, 165, \b\b\n",
      "stock 64: 166, 167, \b\b\n",
      "stock 65: 168, 169, \b\b\n",
      "stock 66: 170, 171, 172, \b\b\n",
      "stock 67: 173, 174, \b\b\n",
      "stock 68: 175, 176, \b\b\n",
      "stock 69: 177, 178, 179, \b\b\n",
      "stock 70: 180, 181, 182, \b\b\n",
      "stock 71: 183, 184, 185, \b\b\n",
      "stock 72: 186, 187, 188, \b\b\n",
      "stock 73: 189, 190, \b\b\n",
      "stock 74: 191, 192, \b\b\n",
      "stock 75: 193, 194, \b\b\n",
      "stock 76: 195, 196, 197, \b\b\n",
      "stock 77: 198, 199, 200, \b\b\n",
      "stock 78: 201, 202, 203, \b\b\n",
      "stock 79: 204, 205, 206, \b\b\n",
      "stock 80: 207, 208, 209, \b\b\n",
      "stock 81: 210, 211, 212, \b\b\n",
      "stock 82: 213, 214, \b\b\n",
      "stock 83: 215, 216, 217, \b\b\n",
      "stock 84: 218, \b\b\n",
      "Execution Time:  138.6503620147705\n"
     ]
    }
   ],
   "source": [
    "import time\n",
    "\n",
    "def neighbor2(arr):\n",
    "    random.shuffle(arr)\n",
    "    return arr\n",
    "\n",
    "def Wont(arr):\n",
    "    \n",
    "def simulated_anealing(Requests, Stock_Length, T, a, End, Iterations):\n",
    "    best = Requests\n",
    "    global best_cost\n",
    "    best_cost = cost(Requests, Stock_Length)\n",
    "    cur = Requests\n",
    "    cost_cur = cost(cur, Stock_Length)\n",
    "    progress = [cost_cur]\n",
    "    itr = 1\n",
    "    global wont_be_better\n",
    "    wont_be_better = []\n",
    "    wont_be_better_cost = 0\n",
    "    \n",
    "    while best_cost > End and itr < Iterations:\n",
    "        print(best_cost, end = '\\r', flush=True); itr+=1;\n",
    "\n",
    "        new = neighbor2(cur)\n",
    "        cost_new = cost(new, Stock_Length)\n",
    "        d_cost = cost_new - cost_cur\n",
    "        \n",
    "        if cost_new < best_cost:\n",
    "            best_cost = cost_new\n",
    "            best = cur.copy()\n",
    "            wont_be_better_idx, wont_be_better, cur = Wont(new)\n",
    "            wont_be_better_cost = cost(wont_be_better)\n",
    "        else:\n",
    "            if d_cost <= 0:\n",
    "                cur = new\n",
    "                cost_cur = cost_new\n",
    "            else:\n",
    "                q = random.random()\n",
    "                if q < math.exp(-d_cost / T):\n",
    "                    #print(\":D\")\n",
    "                    cur = new\n",
    "                    cost_cur = cost_new\n",
    "        T *= a\n",
    "        progress.append(wont_be_better_cost + cost_cur)\n",
    "    draw(progress)\n",
    "    best_cost += wont_be_better_cost\n",
    "    Print(best + wont_be_better, idx + wont_be_better_idx, Stock_Length)\n",
    "Stock_Length = 5600\n",
    "Requests = inp(1)\n",
    "idx = [i for i in range(len(Requests))]\n",
    "t1 = time.time()\n",
    "simulated_anealing(Requests,Stock_Length, 100000, 0.9995, 55, 100000)\n",
    "print(\"Execution Time: \", time.time() - t1)\n",
    "print('\\a')"
   ]
  }
 ],
 "metadata": {
  "kernelspec": {
   "display_name": "Python 3",
   "language": "python",
   "name": "python3"
  },
  "language_info": {
   "codemirror_mode": {
    "name": "ipython",
    "version": 3
   },
   "file_extension": ".py",
   "mimetype": "text/x-python",
   "name": "python",
   "nbconvert_exporter": "python",
   "pygments_lexer": "ipython3",
   "version": "3.8.3"
  }
 },
 "nbformat": 4,
 "nbformat_minor": 4
}
