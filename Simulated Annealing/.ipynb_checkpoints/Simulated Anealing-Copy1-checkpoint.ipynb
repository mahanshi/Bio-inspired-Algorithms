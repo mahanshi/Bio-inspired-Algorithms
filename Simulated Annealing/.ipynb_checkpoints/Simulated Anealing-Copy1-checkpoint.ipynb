{
 "cells": [
  {
   "cell_type": "markdown",
   "metadata": {},
   "source": [
    "#Getting input "
   ]
  },
  {
   "cell_type": "code",
   "execution_count": 2,
   "metadata": {},
   "outputs": [
    {
     "name": "stdout",
     "output_type": "stream",
     "text": [
      "106, 187, 914, 106, 33, 18, 402, 230, 507, 495, 609, 627, 346, 295, 312, 107, 716, 88, 106, 248, 689, 115, 106, 218, 672, 618, 117, 805, 306, 753, 414, 84, 557, 266, 409, 144, 69, 116, 333, 88, 264, 967, 180, 251, 71, 788, 581, 555, 988, 292, 60, 125, 532, 405, 170, 249, 181, 686, 283, 424, 933, 23, 99, 135, 246, 337, 648, 753, 354, 518, 45, 286, 315, 370, 557, 463, 312, 284, 61, 412, 457, 118, 268, 123, 232, 788, 678, 371, 171, 557, 549, 286, 356, 92, 148, 515, 301, 632, 987, 660, 868, 92, 544, 211, 70, 75, 145, 125, 278, 441, 368, 351, 119, 662, 653, 186, 517, 43, 224, 506, 592, 501, 149, 79, 241, 53, 80, 437, 46, 78, 149, 525, 149, 126, 365, 460, 280, 266, 109, 86\n",
      "[106, 187, 914, 106, 33, 18, 402, 230, 507, 495, 609, 627, 346, 295, 312, 107, 716, 88, 106, 248, 689, 115, 106, 218, 672, 618, 117, 805, 306, 753, 414, 84, 557, 266, 409, 144, 69, 116, 333, 88, 264, 967, 180, 251, 71, 788, 581, 555, 988, 292, 60, 125, 532, 405, 170, 249, 181, 686, 283, 424, 933, 23, 99, 135, 246, 337, 648, 753, 354, 518, 45, 286, 315, 370, 557, 463, 312, 284, 61, 412, 457, 118, 268, 123, 232, 788, 678, 371, 171, 557, 549, 286, 356, 92, 148, 515, 301, 632, 987, 660, 868, 92, 544, 211, 70, 75, 145, 125, 278, 441, 368, 351, 119, 662, 653, 186, 517, 43, 224, 506, 592, 501, 149, 79, 241, 53, 80, 437, 46, 78, 149, 525, 149, 126, 365, 460, 280, 266, 109, 86]\n"
     ]
    }
   ],
   "source": [
    "def inp(a):\n",
    "    if a: return Requests\n",
    "    s = list(map(int, input().split(',')))\n",
    "    return s\n",
    "    \n",
    "Stock_Length = 100\n",
    "Requests = inp(0)\n",
    "print(Requests)"
   ]
  },
  {
   "cell_type": "markdown",
   "metadata": {},
   "source": [
    "#Cost function"
   ]
  },
  {
   "cell_type": "code",
   "execution_count": 37,
   "metadata": {},
   "outputs": [
    {
     "name": "stdout",
     "output_type": "stream",
     "text": [
      "5\n"
     ]
    }
   ],
   "source": [
    "def cost(arr, length):\n",
    "    cur = 0\n",
    "    cnt = 1\n",
    "    for i in arr:\n",
    "        if cur + i > length:\n",
    "            cur = i\n",
    "            cnt += 1\n",
    "        else:\n",
    "            cur += i\n",
    "    return cnt\n",
    "print(cost([1,2,3,4,2,5,2,6], 6))\n",
    "    "
   ]
  },
  {
   "cell_type": "markdown",
   "metadata": {},
   "source": [
    "#Neighbor "
   ]
  },
  {
   "cell_type": "code",
   "execution_count": 83,
   "metadata": {},
   "outputs": [
    {
     "name": "stdout",
     "output_type": "stream",
     "text": [
      "[1, 4, 3, 2, 5]\n"
     ]
    }
   ],
   "source": [
    "import math, random\n",
    "def neighbor(arr):\n",
    "    a = random.randint(0, len(arr)-1)\n",
    "    b = (a + random.randint(1, len(arr)-1)) % len(arr)\n",
    "    idx[a], idx[b] = idx[b], idx[a]\n",
    "    arr[a] ,arr[b] = arr[b], arr[a]\n",
    "    return arr\n",
    "print(neighbor([1,2,3,4,5]))"
   ]
  },
  {
   "cell_type": "markdown",
   "metadata": {},
   "source": [
    "#drawing the progress and printing res"
   ]
  },
  {
   "cell_type": "code",
   "execution_count": 90,
   "metadata": {},
   "outputs": [],
   "source": [
    "def draw(progress):\n",
    "    import matplotlib.pyplot as plt\n",
    "    plt.plot(progress)\n",
    "    plt.ylabel('Cost')\n",
    "    plt.xlabel('Iteration')\n",
    "    plt.show()\n",
    "    \n",
    "def Print(arr, idx, length):\n",
    "    print(best_cost)\n",
    "    cur = 0\n",
    "    cnt = 1\n",
    "    j = 0\n",
    "    print(\"stock 1: \", end = '')\n",
    "    for i in arr:\n",
    "        if cur + i > length:\n",
    "            print()\n",
    "            print(\"stock \" + str(cnt + 1) + \": \", end = '')\n",
    "            cur = i\n",
    "            cnt += 1\n",
    "        else:\n",
    "            cur += i\n",
    "            \n",
    "        print(idx[j], end = ', ')\n",
    "        j += 1"
   ]
  },
  {
   "cell_type": "markdown",
   "metadata": {},
   "source": [
    "#Main function"
   ]
  },
  {
   "cell_type": "code",
   "execution_count": 88,
   "metadata": {},
   "outputs": [],
   "source": [
    "import time\n",
    "def simulated_anealing(Requests, Stock_Length, T, a, End):\n",
    "    best = Requests\n",
    "    global best_cost\n",
    "    best_cost = cost(Requests, Stock_Length)\n",
    "    \n",
    "    cur = Requests\n",
    "    cost_cur = cost(cur, Stock_Length)\n",
    "    progress = [cost_cur]\n",
    "    itr = 1\n",
    "    \n",
    "    while best_cost > End: #itr < 5000:\n",
    "        \n",
    "        new = neighbor(cur)\n",
    "        cost_new = cost(new, Stock_Length)\n",
    "        if cost_new < best_cost:\n",
    "            best_cost = cost_new\n",
    "            best = cur\n",
    "        #time.sleep(0.01)\n",
    "        d_cost = cost_new - cost_cur\n",
    "        #print(itr,' ',math.exp(-d_cost / T), cost_cur, end = '\\r', flush=True); itr+=1;\n",
    "        print(itr,' ', best_cost, end = '\\r', flush=True); itr+=1;\n",
    "        if d_cost <= 0:\n",
    "            cur = new\n",
    "            cost_cur = cost_new\n",
    "        else:\n",
    "            q = random.random()\n",
    "            if q < math.exp(-d_cost / T):\n",
    "                #print(\":D\")\n",
    "                cur = new\n",
    "                cost_cur = cost_new\n",
    "        T *= a\n",
    "        progress.append(cost_cur)\n",
    "    draw(progress)\n",
    "    "
   ]
  },
  {
   "cell_type": "markdown",
   "metadata": {},
   "source": [
    "At first it seems it can't even get to the right answer for the sample 1 (it stucks in 59) "
   ]
  },
  {
   "cell_type": "code",
   "execution_count": 66,
   "metadata": {},
   "outputs": [
    {
     "name": "stdout",
     "output_type": "stream",
     "text": [
      "999 1.6272358623287597e-296 5962 1.0 63 0.8806068827787307 65 1.0 65 1.0 62 62 2.0177045767166013 63 0.24899188087809063 63 1.0 63 9.928179411896092e-09 60 1.9443406998846718e-11 6060 1.3689132707859294e-10 60 1.387829168476576e-13 60 2.2271142761971253e-15 60 3.4135638574221184e-22 60 3.1730361377430974e-30 60\r"
     ]
    },
    {
     "data": {
      "image/png": "[encoded data removed]",
      "text/plain": [
       "<Figure size 432x288 with 1 Axes>"
      ]
     },
     "metadata": {
      "needs_background": "light"
     },
     "output_type": "display_data"
    }
   ],
   "source": [
    "Stock_Length = 1000\n",
    "Requests = inp(1)\n",
    "simulated_anealing(Requests,Stock_Length, 100, 0.99, 51)"
   ]
  },
  {
   "cell_type": "code",
   "execution_count": null,
   "metadata": {},
   "outputs": [],
   "source": [
    "def neighbor2(arr):\n",
    "    random.shuffle(arr)\n",
    "    return arr\n",
    "\n",
    "def simulated_anealing(Requests, Stock_Length, T, a, End):\n",
    "    best = Requests\n",
    "    global best_cost\n",
    "    best_cost = cost(Requests, Stock_Length)\n",
    "    cur = Requests\n",
    "    cost_cur = cost(cur, Stock_Length)\n",
    "    progress = [cost_cur]\n",
    "    itr = 1\n",
    "    \n",
    "    while best_cost > End: #itr < 5000:\n",
    "        \n",
    "        new = neighbor2(cur)\n",
    "        cost_new = cost(new, Stock_Length)\n",
    "        if cost_new < best_cost:\n",
    "            best_cost = cost_new\n",
    "            best = cur\n",
    "        #time.sleep(0.01)\n",
    "        d_cost = cost_new - cost_cur\n",
    "        #print(itr,' ',math.exp(-d_cost / T), cost_cur, end = '\\r', flush=True); itr+=1;\n",
    "        print(best_cost, end = '\\r', flush=True); itr+=1;\n",
    "        if d_cost <= 0:\n",
    "            cur = new\n",
    "            cost_cur = cost_new\n",
    "        else:\n",
    "            q = random.random()\n",
    "            if q < math.exp(-d_cost / T):\n",
    "                #print(\":D\")\n",
    "                cur = new\n",
    "                cost_cur = cost_new\n",
    "        T *= a\n",
    "        progress.append(cost_cur)\n",
    "    draw(progress)\n",
    "    Print(best, idx, Stock_Length)\n",
    "Stock_Length = 1000\n",
    "Requests = inp(0)\n",
    "idx = [i for i in range(len(Requests))]\n",
    "simulated_anealing(Requests,Stock_Length, 1000, 0.999, 56)"
   ]
  },
  {
   "cell_type": "code",
   "execution_count": null,
   "metadata": {},
   "outputs": [],
   "source": []
  }
 ],
 "metadata": {
  "kernelspec": {
   "display_name": "Python 3",
   "language": "python",
   "name": "python3"
  },
  "language_info": {
   "codemirror_mode": {
    "name": "ipython",
    "version": 3
   },
   "file_extension": ".py",
   "mimetype": "text/x-python",
   "name": "python",
   "nbconvert_exporter": "python",
   "pygments_lexer": "ipython3",
   "version": "3.8.3"
  }
 },
 "nbformat": 4,
 "nbformat_minor": 4
}
