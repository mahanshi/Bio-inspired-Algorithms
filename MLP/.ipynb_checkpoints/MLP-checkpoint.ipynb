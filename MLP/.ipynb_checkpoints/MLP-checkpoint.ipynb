{
 "cells": [
  {
   "cell_type": "markdown",
   "metadata": {},
   "source": [
    "Getting input"
   ]
  },
  {
   "cell_type": "code",
   "execution_count": 8,
   "metadata": {},
   "outputs": [
    {
     "name": "stdout",
     "output_type": "stream",
     "text": [
      "4000 [-0.586110177649249, -1.50363417532463, -1.28089947174288, -0.023598126223051, 1.33647812419478, 0.357641911027138, -0.267087831778927, -1.25246127938213, -0.486626837029913, 1.35142920975526]\n",
      "2.97797123593957 -3.04444701414054 4.94845678331942 -3.00517265841451\n"
     ]
    }
   ],
   "source": [
    "from math import exp\n",
    "import random\n",
    "\n",
    "file = open(\"train\", \"r\")\n",
    "count = 0\n",
    "in_x = []\n",
    "in_y = []\n",
    "t = []\n",
    "while 1:\n",
    " \n",
    "    line = file.readline()\n",
    "\n",
    "    if not line:\n",
    "        break\n",
    "    line = list(line.split())\n",
    "    in_x.append(float(line[0]))\n",
    "    in_y.append(float(line[1]))\n",
    "    t.append(int(line[2]))\n",
    "    #print(in_x[-1], in_y[-1], t[-1])\n",
    "    count += 1\n",
    "print(len(in_x), in_x[:10])\n",
    "print(max(in_x), min(in_x), max(in_y), min(in_y))"
   ]
  },
  {
   "cell_type": "markdown",
   "metadata": {},
   "source": [
    "Initializing the first random values (between -0.5 and 0.5) and +1 is for bias value"
   ]
  },
  {
   "cell_type": "code",
   "execution_count": 17,
   "metadata": {},
   "outputs": [
    {
     "name": "stdout",
     "output_type": "stream",
     "text": [
      "[[0.3991591828898189, -0.25248132184491756, -0.2387836195432087, 0.421542126203466, -0.04510741901922166, 0.015448627191308906], [-0.10159314230632477, 0.04082379413579029, -0.14157544621483498, 0.2062080870865579, -0.11637576154238594, 0.3890124395266026]] [0.21589795637294207, 0.23021295554783106, -0.3937048618217862, 0.08628232910198974, -0.45244931171855507, -0.13205656756143613]\n"
     ]
    }
   ],
   "source": [
    "def init(hidden_count, a):\n",
    "    global v, w, z, alpha, bias_v\n",
    "    alpha = a\n",
    "    z = [0 for i in range(hidden_count+1)]\n",
    "    bias_v = [(random.random() - 0.5) for i in range(hidden_count+1)]\n",
    "    v = [[(random.random() - 0.5) for i in range(hidden_count+1)] for j in range(2)]\n",
    "    w = [(random.random() - 0.5)for i in range(hidden_count+1)]\n",
    "init(5, 0.02)\n",
    "print(v, w)"
   ]
  },
  {
   "cell_type": "markdown",
   "metadata": {},
   "source": [
    "Activation function(sigmoid) and it's derivative"
   ]
  },
  {
   "cell_type": "code",
   "execution_count": 13,
   "metadata": {},
   "outputs": [],
   "source": [
    "def f(x):\n",
    "    return 1.0 / (1.0 + exp(x))\n",
    "def df(x):\n",
    "    return x * (1.0 - x)"
   ]
  },
  {
   "cell_type": "markdown",
   "metadata": {},
   "source": [
    "Update the values with one input (x,y,t)"
   ]
  },
  {
   "cell_type": "code",
   "execution_count": null,
   "metadata": {},
   "outputs": [],
   "source": [
    "def train_one(x, y, t):\n",
    "    z[0] = 1\n",
    "    z_in = []\n",
    "    for j in range(1, len(z)+1):\n",
    "        z_in.append(bias_v[j] + v[0][j] * x + v[1][j] * y)\n",
    "        z[j] = f(z_in[-1])\n",
    "    out = sum([w[i] * z[i] for (i in range(len(z)+1))])\n",
    "    out_act = f(out)\n",
    "    \n",
    "    # returning for error and update\n",
    "    delta = (t - out_act) * df(out)\n",
    "    delta_w = [alpha * delta * z[i] for i in range(len(z)+1)]\n",
    "    \n",
    "    delta_in = [delta * w[j] for j in range(1, len(z)+1)]\n",
    "    delta = [delta_in[i] * df(z_in[i]) for i in range(len(z))]\n",
    "    X = [x, y]\n",
    "    delta_v = [[alpha * delta[j-1] * X[i] for j in range(1, hidden_count+1)] for i in range(2)]\n",
    "    delta_bias_v = [alpha * delta[j-1] for j in range(1, len(z)+1)]\n",
    "    \n",
    "    w += delta_w\n",
    "    v += delta_v\n",
    "    bias_v += delta_bias_v"
   ]
  }
 ],
 "metadata": {
  "kernelspec": {
   "display_name": "Python 3",
   "language": "python",
   "name": "python3"
  },
  "language_info": {
   "codemirror_mode": {
    "name": "ipython",
    "version": 3
   },
   "file_extension": ".py",
   "mimetype": "text/x-python",
   "name": "python",
   "nbconvert_exporter": "python",
   "pygments_lexer": "ipython3",
   "version": "3.8.3"
  }
 },
 "nbformat": 4,
 "nbformat_minor": 4
}
