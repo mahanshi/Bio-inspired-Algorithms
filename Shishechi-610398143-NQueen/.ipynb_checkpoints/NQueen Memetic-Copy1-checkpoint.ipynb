{
 "cells": [
  {
   "cell_type": "markdown",
   "metadata": {},
   "source": [
    "# Creating random chromosomes\n",
    "generating a random permutation (p[i] = a so there is a queen in i'th row ,a'th column)"
   ]
  },
  {
   "cell_type": "code",
   "execution_count": 2,
   "metadata": {},
   "outputs": [
    {
     "data": {
      "text/plain": [
       "[[2, 0, 1, 4, 3], [4, 2, 1, 0, 3], [2, 3, 0, 1, 4]]"
      ]
     },
     "execution_count": 2,
     "metadata": {},
     "output_type": "execute_result"
    }
   ],
   "source": [
    "import random\n",
    "def first_population(number_of_samples, size):\n",
    "    l = []\n",
    "    for i in range(number_of_samples):\n",
    "        chromosome = []\n",
    "        for j in range(size):\n",
    "            a = random.randint(0,size-1)\n",
    "            while a in chromosome:\n",
    "                a = random.randint(0,size-1)\n",
    "            chromosome.append(a)\n",
    "        l.append(chromosome)\n",
    "    return l\n",
    "\n",
    "first_population(3,5)\n",
    "                "
   ]
  },
  {
   "cell_type": "markdown",
   "metadata": {},
   "source": [
    "# Fitness function (number of two attacking queens)"
   ]
  },
  {
   "cell_type": "code",
   "execution_count": 104,
   "metadata": {},
   "outputs": [
    {
     "name": "stdout",
     "output_type": "stream",
     "text": [
      "[0, 2, 3, 4, 1]\n",
      "1 0 0 0 0 \n",
      "0 0 1 0 0 \n",
      "0 0 0 1 0 \n",
      "0 0 0 0 1 \n",
      "0 1 0 0 0 \n",
      "4\n"
     ]
    }
   ],
   "source": [
    "def attack(a, b, M):\n",
    "    return (M[a] - a == M[b] - b) or (M[a] + a) == (M[b] + b)\n",
    "        \n",
    "def fitness(chromosome):\n",
    "    w = 0\n",
    "    for i in range(len(chromosome)):\n",
    "\n",
    "        for j in range(i+1, len(chromosome)):\n",
    "            if attack(i, j, chromosome):\n",
    "                #print(i, j)\n",
    "                w += 1\n",
    "                \n",
    "    return w\n",
    "\n",
    "chromosome = first_population(1,5)[0]\n",
    "print(chromosome)\n",
    "for i in range(len(chromosome)):\n",
    "    for j in range(len(chromosome)):\n",
    "        if j == chromosome[i]:\n",
    "            print('1', end = \" \")\n",
    "        else:\n",
    "            print('0', end = \" \")\n",
    "    print()\n",
    "print(fitness(chromosome))"
   ]
  },
  {
   "cell_type": "markdown",
   "metadata": {},
   "source": [
    "an example (with print uncommented):\n",
    "[4, 2, 3, 1, 0]\n",
    "\n",
    "0 0 0 0 1 \n",
    "0 0 1 0 0 \n",
    "0 0 0 1 0 \n",
    "0 1 0 0 0 \n",
    "1 0 0 0 0 \n",
    "0 3\n",
    "0 4\n",
    "1 2\n",
    "3 4\n",
    "4\n"
   ]
  },
  {
   "cell_type": "markdown",
   "metadata": {},
   "source": [
    "# Cross over"
   ]
  },
  {
   "cell_type": "code",
   "execution_count": 199,
   "metadata": {},
   "outputs": [
    {
     "name": "stdout",
     "output_type": "stream",
     "text": [
      "[[1, 4, 2, 0, 3], [0, 1, 3, 2, 4]]\n",
      "[1, 3, 2, 4, 0]\n"
     ]
    }
   ],
   "source": [
    "def cross_over(parent1, parent2):\n",
    "    \n",
    "    size = len(parent1)\n",
    "    # result\n",
    "    res = [-1 for i in range(size)]\n",
    "    a = random.randint(0, size-1)\n",
    "    b = -1\n",
    "    while b == a or b == -1:\n",
    "        b = random.randint(0, size-1)\n",
    "    if (a > b):\n",
    "        a, b = b, a\n",
    "    # putting parent1 genes\n",
    "    i = a\n",
    "    cnt = i\n",
    "    while i != b:\n",
    "        res[cnt] = parent1[i]\n",
    "        i = (i + 1) % size\n",
    "        cnt = (cnt + 1) % size\n",
    "        \n",
    "    # putting parent2 genes\n",
    "    i = b\n",
    "    cnt = b\n",
    "    while (-1 in res):\n",
    "\n",
    "        if parent2[i] not in res:\n",
    "            res[cnt] = parent2[i]\n",
    "            cnt = (cnt + 1) % size\n",
    "        i = (i + 1) % size\n",
    "        \n",
    "        \n",
    "    return res\n",
    "parents = first_population(2,5)\n",
    "print(parents)\n",
    "print(cross_over(parents[0], parents[1]))\n",
    "        "
   ]
  },
  {
   "cell_type": "markdown",
   "metadata": {},
   "source": [
    "# Mutation"
   ]
  },
  {
   "cell_type": "code",
   "execution_count": 22,
   "metadata": {},
   "outputs": [
    {
     "name": "stdout",
     "output_type": "stream",
     "text": [
      "[1, 5, 3, 4, 2]\n"
     ]
    }
   ],
   "source": [
    "def mutation(chromosome, mutation_rate):\n",
    "    for i in range(len(chromosome)):\n",
    "        if (random.random() < mutation_rate):\n",
    "            x = random.randint(0,len(chromosome)-1)\n",
    "            # swap:\n",
    "            chromosome[i], chromosome[x] = chromosome[x], chromosome[i]  \n",
    "    return chromosome\n",
    "\n",
    "print(mutation([1,2,3,4,5], 0.5))"
   ]
  },
  {
   "cell_type": "markdown",
   "metadata": {},
   "source": [
    "# Main Function (without mems and pure genes)"
   ]
  },
  {
   "cell_type": "markdown",
   "metadata": {},
   "source": [
    "just to see what happen with pure genetic algorithm"
   ]
  },
  {
   "cell_type": "code",
   "execution_count": 53,
   "metadata": {},
   "outputs": [
    {
     "name": "stdout",
     "output_type": "stream",
     "text": [
      "D\n",
      "SS\n",
      "[80, 62, 3, 98, 33, 56, 25, 92, 8, 1, 47, 78, 17, 12, 45, 52, 38, 71, 16, 30, 4, 93, 86, 79, 28, 41, 15, 77, 36, 19, 95, 22, 37, 61, 73, 42, 60, 24, 35, 94, 39, 64, 87, 85, 20, 40, 10, 91, 75, 34, 66, 90, 27, 58, 26, 32, 83, 51, 11, 59, 70, 82, 0, 21, 89, 53, 9, 97, 84, 65, 72, 31, 50, 18, 43, 54, 6, 81, 46, 48, 55, 63, 88, 96, 67, 76, 23, 74, 2, 68, 99, 29, 44, 5, 13, 49, 69, 14, 57, 7] 31\n"
     ]
    },
    {
     "data": {
      "image/png": "[encoded data removed]",
      "text/plain": [
       "<Figure size 432x288 with 1 Axes>"
      ]
     },
     "metadata": {
      "needs_background": "light"
     },
     "output_type": "display_data"
    }
   ],
   "source": [
    "import matplotlib.pyplot as plt\n",
    "import bisect\n",
    "def reverse(l):\n",
    "    return float(1) / float(l)\n",
    "\n",
    "def genentic(iterations, population_number, mutation_rate, elite_size):\n",
    "    print(\"D\")\n",
    "    population = first_population(population_number, n)\n",
    "    print(\"SS\")\n",
    "    progress = []\n",
    "    for i in range(iterations):\n",
    "\n",
    "        print(i, fitness(population[0]), fitness(population[1]), end = '\\r', flush=True)\n",
    "        population.sort(key = fitness)\n",
    "        progress.append(fitness(population[0]))\n",
    "        child = []\n",
    "        # moving elites to next generation\n",
    "        for j in range(elite_size):\n",
    "            child.append(population[j])\n",
    "            \n",
    "        # selection based on fitness(normalize fitness)\n",
    "        select = []\n",
    "        normalized_fitness = [(reverse(fitness(j))) for j in population]\n",
    "        reversed(population)\n",
    "        sum_fitness = sum(normalized_fitness)\n",
    "        prefix_sum = [normalized_fitness[0]/sum_fitness]\n",
    "        for k in range(1, len(population)):\n",
    "            prefix_sum.append(prefix_sum[k-1] + float(normalized_fitness[k]) / float(sum_fitness))\n",
    "            \n",
    "        while(len(select) < population_number - elite_size):\n",
    "            x = random.random() \n",
    "            select.append(population[bisect.bisect(prefix_sum, x)])\n",
    "        \n",
    "        # making new child from selected parents\n",
    "        j = 0\n",
    "        while (len(child) < population_number):\n",
    "            child.append(cross_over(select[j], select[len(select) - 1 - j]))\n",
    "            j = (j + 1) % len(select)\n",
    "        # mutate next generation\n",
    "        for j in range(elite_size, population_number):\n",
    "            if (random.random() < mutation_rate):\n",
    "                child[j] = mutation(child[j], mutation_rate)\n",
    "        population = child\n",
    "    \n",
    "    population.sort(key = fitness)\n",
    "    print(population[0], fitness(population[0]))\n",
    "    \n",
    "    plt.plot(progress)\n",
    "    plt.ylabel('Fitness')\n",
    "    plt.xlabel('Generation')\n",
    "    plt.show()\n",
    "\n",
    "n = 100\n",
    "genentic(500, 10, 0.01, 2)"
   ]
  },
  {
   "cell_type": "markdown",
   "metadata": {},
   "source": [
    "the best answer for n = 100 after 500 generations was 31! (31 tuple of queens attacking each other)"
   ]
  },
  {
   "cell_type": "markdown",
   "metadata": {},
   "source": [
    "# Replace fitness of best neighbors with previous fitness function"
   ]
  },
  {
   "cell_type": "code",
   "execution_count": 200,
   "metadata": {
    "scrolled": false
   },
   "outputs": [
    {
     "name": "stdout",
     "output_type": "stream",
     "text": [
      "D\n",
      "SS\n",
      "[33, 49, 58, 21, 89, 0, 98, 18, 37, 67, 46, 7, 88, 36, 68, 31, 3, 95, 30, 83, 51, 43, 90, 85, 50, 59, 4, 78, 38, 92, 34, 32, 97, 82, 72, 5, 19, 16, 29, 74, 28, 10, 69, 87, 15, 73, 40, 44, 80, 39, 11, 1, 17, 45, 35, 79, 75, 66, 77, 61, 65, 76, 70, 12, 23, 86, 96, 6, 9, 41, 52, 71, 24, 57, 25, 47, 62, 94, 81, 54, 93, 14, 8, 99, 13, 22, 63, 53, 48, 27, 26, 55, 2, 60, 56, 84, 64, 20, 91, 42] 8\n"
     ]
    },
    {
     "data": {
      "image/png": "[encoded data removed]",
      "text/plain": [
       "<Figure size 432x288 with 1 Axes>"
      ]
     },
     "metadata": {
      "needs_background": "light"
     },
     "output_type": "display_data"
    }
   ],
   "source": [
    "tabu = []\n",
    "def local_search(best, chromosome):\n",
    "    m = fitness(chromosome)\n",
    "    res = -1\n",
    "    for i in range(10):\n",
    "        j = 0#(i+1)%len(chromosome)\n",
    "        chromosome[i], chromosome[j] = chromosome[j], chromosome[i]\n",
    "        f = fitness(chromosome)\n",
    "        if f < best*2 and f < m:\n",
    "            res = i\n",
    "            m = f\n",
    "        chromosome[i], chromosome[j] = chromosome[j], chromosome[i]\n",
    "    cp = chromosome\n",
    "    if res != -1:\n",
    "        i = res\n",
    "        j = 0#(i+1)%len(chromosome)\n",
    "        \n",
    "        chromosome[i], chromosome[j] = chromosome[j], chromosome[i]\n",
    "        cp = chromosome.copy()\n",
    "        chromosome[i], chromosome[j] = chromosome[j], chromosome[i]\n",
    "    \n",
    "    return res, cp\n",
    "\n",
    "\n",
    "def mem_genentic(iterations, population_number, mutation_rate, elite_size):\n",
    "    print(\"D\")\n",
    "    population = first_population(population_number, n)\n",
    "    print(\"SS\")\n",
    "    progress = []\n",
    "    for i in range(iterations):\n",
    "\n",
    "        print(i, fitness(population[0]), fitness(population[1]), end = '\\r', flush=True)\n",
    "        \n",
    "        population.sort(key = fitness)\n",
    "        if fitness(population[0]) == 0:\n",
    "            break\n",
    "        progress.append(fitness(population[0]))\n",
    "        child = []\n",
    "        # moving elites to next generation\n",
    "        for j in range(elite_size):\n",
    "            child.append(population[j])\n",
    "            \n",
    "        # selection based on fitness(normalize fitness)\n",
    "        select = []\n",
    "        normalized_fitness = [(reverse(fitness(j))) for j in population]\n",
    "        reversed(population)\n",
    "        sum_fitness = sum(normalized_fitness)\n",
    "        prefix_sum = [normalized_fitness[0]/sum_fitness]\n",
    "        for k in range(1, len(population)):\n",
    "            prefix_sum.append(prefix_sum[k-1] + float(normalized_fitness[k]) / float(sum_fitness))\n",
    "            \n",
    "        while(len(select) < population_number - elite_size):\n",
    "            x = random.random() \n",
    "            select.append(population[bisect.bisect(prefix_sum, x)])\n",
    "        \n",
    "        # making new child from selected parents\n",
    "        j = 0\n",
    "        while (len(child) < population_number):\n",
    "            r = random.randint(0, len(select)-1)\n",
    "            child.append(cross_over(select[j], select[r]))#jlen(select) - 1 - j]))\n",
    "            j = (j + 1) % len(select)\n",
    "        # mutate next generation\n",
    "        for j in range(elite_size, population_number):\n",
    "            child[j] = mutation(child[j], mutation_rate)\n",
    "\n",
    "        \n",
    "        population = child\n",
    "        for i in range(elite_size//2, len(population)):\n",
    "            #print(child[i])\n",
    "            best = progress[-1]\n",
    "            r, x = local_search(best, population[i]) \n",
    "            #print(x)\n",
    "            if r != -1 and (x not in tabu):\n",
    "                #print(\"Better\")\n",
    "                #child.append(population[i])\n",
    "                population = population[:i] + [x] + population[i+1:]\n",
    "                tabu.append(x)\n",
    "                \n",
    "    population.sort(key = fitness)\n",
    "    print(population[0], fitness(population[0]))\n",
    "    \n",
    "    plt.plot(progress)\n",
    "    plt.ylabel('Fitness')\n",
    "    plt.xlabel('Generation')\n",
    "    plt.show()\n",
    "\n",
    "n = 100\n",
    "mem_genentic(500, 30, 0.002, 10)"
   ]
  },
  {
   "cell_type": "code",
   "execution_count": 219,
   "metadata": {},
   "outputs": [
    {
     "name": "stdout",
     "output_type": "stream",
     "text": [
      "D\n",
      "SS\n",
      "[70, 8, 79, 22, 27, 39, 51, 53, 38, 4, 82, 17, 83, 62, 42, 76, 68, 86, 45, 28, 0, 75, 26, 59, 89, 69, 13, 87, 57, 54, 48, 81, 1, 9, 72, 91, 74, 16, 21, 78, 24, 67, 63, 98, 7, 31, 3, 25, 2, 97, 71, 11, 14, 90, 36, 49, 44, 50, 93, 15, 19, 58, 5, 96, 37, 6, 33, 10, 12, 20, 41, 65, 30, 60, 23, 73, 66, 52, 94, 56, 95, 84, 43, 55, 32, 99, 85, 40, 34, 80, 92, 18, 47, 61, 46, 29, 77, 35, 64, 88] 5\n"
     ]
    },
    {
     "data": {
      "image/png": "[encoded data removed]",
      "text/plain": [
       "<Figure size 432x288 with 1 Axes>"
      ]
     },
     "metadata": {
      "needs_background": "light"
     },
     "output_type": "display_data"
    }
   ],
   "source": [
    "tabu = []\n",
    "def local_search(best, chromosome):\n",
    "    m = fitness(chromosome)\n",
    "    res = -1\n",
    "    for _ in range(10):\n",
    "        i = random.randint(1, len(chromosome)-1)\n",
    "        j = 0#(i+1)%len(chromosome)\n",
    "        chromosome[i], chromosome[j] = chromosome[j], chromosome[i]\n",
    "        f = fitness(chromosome)\n",
    "        if f < best*2 and f < m:\n",
    "            res = i\n",
    "            m = f\n",
    "        chromosome[i], chromosome[j] = chromosome[j], chromosome[i]\n",
    "    cp = chromosome\n",
    "    if res != -1:\n",
    "        i = res\n",
    "        j = 0#(i+1)%len(chromosome)\n",
    "        \n",
    "        chromosome[i], chromosome[j] = chromosome[j], chromosome[i]\n",
    "        cp = chromosome.copy()\n",
    "        chromosome[i], chromosome[j] = chromosome[j], chromosome[i]\n",
    "    \n",
    "    return res, cp\n",
    "\n",
    "\n",
    "def mem_genentic(iterations, population_number, mutation_rate, elite_size):\n",
    "    print(\"D\")\n",
    "    population = first_population(population_number, n)\n",
    "    print(\"SS\")\n",
    "    progress = []\n",
    "    for i in range(iterations):\n",
    "        \n",
    "        print(i, fitness(population[0]), fitness(population[1]), end = '\\r', flush=True)\n",
    "        population.sort(key = fitness)\n",
    "        if fitness(population[0]) == 0:\n",
    "            break\n",
    "        progress.append(fitness(population[0]))\n",
    "        child = []\n",
    "        # moving elites to next generation\n",
    "        for j in range(elite_size):\n",
    "            child.append(population[j])\n",
    "            \n",
    "        # selection based on fitness(normalize fitness)\n",
    "        select = []\n",
    "        normalized_fitness = [(reverse(fitness(j))) for j in population]\n",
    "        reversed(population)\n",
    "        sum_fitness = sum(normalized_fitness)\n",
    "        prefix_sum = [normalized_fitness[0]/sum_fitness]\n",
    "        for k in range(1, len(population)):\n",
    "            prefix_sum.append(prefix_sum[k-1] + float(normalized_fitness[k]) / float(sum_fitness))\n",
    "            \n",
    "        while(len(select) < population_number - elite_size):\n",
    "            x = random.random() \n",
    "            select.append(population[bisect.bisect(prefix_sum, x)])\n",
    "        \n",
    "        # making new child from selected parents\n",
    "        j = 0\n",
    "        while (len(child) < population_number):\n",
    "            r = random.randint(0, len(select)-1)\n",
    "            child.append(cross_over(select[j], select[r]))#jlen(select) - 1 - j]))\n",
    "            j = (j + 1) % len(select)\n",
    "        # mutate next generation\n",
    "        for j in range(elite_size, population_number):\n",
    "            child[j] = mutation(child[j], mutation_rate)\n",
    "\n",
    "        \n",
    "        population = child\n",
    "    \n",
    "        for i in range(elite_size//2, len(population)):\n",
    "            #print(child[i])\n",
    "            best = progress[-1]\n",
    "            r, x = local_search(best, population[i]) \n",
    "            #print(x)\n",
    "            if r != -1 and (x not in tabu):\n",
    "                #print(\"Better\")\n",
    "                #child.append(population[i])\n",
    "                population = population[:i] + [x] + population[i+1:]\n",
    "                tabu.append(x)\n",
    "                \n",
    "    population.sort(key = fitness)\n",
    "    print(population[0], fitness(population[0]))\n",
    "    \n",
    "    plt.plot(progress)\n",
    "    plt.ylabel('Fitness')\n",
    "    plt.xlabel('Generation')\n",
    "    plt.show()\n",
    "\n",
    "n = 100\n",
    "mem_genentic(1000, 20, 0.02, 8)"
   ]
  },
  {
   "cell_type": "code",
   "execution_count": 252,
   "metadata": {},
   "outputs": [
    {
     "name": "stdout",
     "output_type": "stream",
     "text": [
      "D\n",
      "SS\n",
      "[77, 46, 71, 87, 51, 59, 63, 73, 42, 35, 48, 15, 5, 32, 45, 83, 62, 16, 6, 47, 85, 31, 74, 28, 67, 96, 39, 11, 0, 24, 4, 75, 14, 82, 1, 26, 72, 33, 86, 68, 54, 19, 12, 49, 94, 84, 66, 10, 34, 70, 25, 20, 93, 50, 55, 17, 91, 40, 98, 3, 92, 7, 22, 57, 37, 81, 78, 97, 60, 18, 88, 69, 89, 13, 99, 29, 79, 53, 36, 58, 95, 61, 43, 2, 52, 8, 27, 64, 23, 76, 90, 44, 30, 9, 65, 21, 38, 56, 41, 80] 0\n"
     ]
    },
    {
     "data": {
      "image/png": "[encoded data removed]",
      "text/plain": [
       "<Figure size 432x288 with 1 Axes>"
      ]
     },
     "metadata": {
      "needs_background": "light"
     },
     "output_type": "display_data"
    }
   ],
   "source": [
    "def attack(a, b, M):\n",
    "    return (M[a] - a == M[b] - b) or (M[a] + a) == (M[b] + b)\n",
    "        \n",
    "def fitness2(chromosome):\n",
    "    w = 0\n",
    "    vis = []\n",
    "    for i in range(len(chromosome)):\n",
    "\n",
    "        for j in range(i+1, len(chromosome)):\n",
    "            if attack(i, j, chromosome):\n",
    "                #print(i, j)\n",
    "                w += 1\n",
    "                if ((i,j) not in vis):\n",
    "                    vis.append((i,j))\n",
    "    return w, vis\n",
    "\n",
    "tabu = []\n",
    "def local_search(best, chromosome):\n",
    "    pre = chromosome.copy()\n",
    "    m = fitness(chromosome)\n",
    "    res = -1\n",
    "    for _ in range(10):\n",
    "        i = random.randint(1, len(chromosome)-1)\n",
    "        j = 0#(i+1)%len(chromosome)\n",
    "        chromosome[i], chromosome[j] = chromosome[j], chromosome[i]\n",
    "        f = fitness(chromosome)\n",
    "        if f < best*2 and f < m:\n",
    "            res = i\n",
    "            m = f\n",
    "        chromosome[i], chromosome[j] = chromosome[j], chromosome[i]\n",
    "    \n",
    "    cp = chromosome\n",
    "    \n",
    "    if m < 20 and res == -1:\n",
    "        for i in range(10):\n",
    "            chromosome = pre[i:] + pre[0:i]\n",
    "            f = fitness(chromosome)\n",
    "            if f < best*2 and f < m:\n",
    "                res = i\n",
    "                m = f\n",
    "        chromosome = pre\n",
    "        if res != -1:\n",
    "            cp = pre[res:] + pre[0:res]\n",
    "            \n",
    "    elif res != -1:\n",
    "        i = res\n",
    "        j = 0#(i+1)%len(chromosome)\n",
    "        \n",
    "        chromosome[i], chromosome[j] = chromosome[j], chromosome[i]\n",
    "        cp = chromosome.copy()\n",
    "        chromosome[i], chromosome[j] = chromosome[j], chromosome[i]\n",
    "    \n",
    "    return res, cp\n",
    "\n",
    "\n",
    "def mem_genentic(iterations, population_number, mutation_rate, elite_size):\n",
    "    print(\"D\")\n",
    "    population = first_population(population_number, n)\n",
    "    print(\"SS\")\n",
    "    progress = []\n",
    "    for i in range(iterations):\n",
    "        \n",
    "        print(i, fitness(population[0]), fitness(population[1]), end = '\\r', flush=True)\n",
    "        population.sort(key = fitness)\n",
    "        if fitness(population[0]) == 0:\n",
    "            break\n",
    "        progress.append(fitness(population[0]))\n",
    "        child = []\n",
    "        # moving elites to next generation\n",
    "        for j in range(elite_size):\n",
    "            child.append(population[j])\n",
    "            \n",
    "        # selection based on fitness(normalize fitness)\n",
    "        select = []\n",
    "        normalized_fitness = [(reverse(fitness(j))) for j in population]\n",
    "        reversed(population)\n",
    "        sum_fitness = sum(normalized_fitness)\n",
    "        prefix_sum = [normalized_fitness[0]/sum_fitness]\n",
    "        for k in range(1, len(population)):\n",
    "            prefix_sum.append(prefix_sum[k-1] + float(normalized_fitness[k]) / float(sum_fitness))\n",
    "            \n",
    "        while(len(select) < population_number - elite_size):\n",
    "            x = random.random() \n",
    "            select.append(population[bisect.bisect(prefix_sum, x)])\n",
    "        \n",
    "        # making new child from selected parents\n",
    "        j = 0\n",
    "        while (len(child) < population_number):\n",
    "            r = random.randint(0, len(select)-1)\n",
    "            child.append(cross_over(select[j], select[r]))#jlen(select) - 1 - j]))\n",
    "            j = (j + 1) % len(select)\n",
    "        # mutate next generation\n",
    "        for j in range(elite_size, population_number):\n",
    "            child[j] = mutation(child[j], mutation_rate)\n",
    "\n",
    "        \n",
    "        population = child\n",
    "        for i in range(elite_size//2, len(population)):\n",
    "            #print(child[i])\n",
    "            best = progress[-1]\n",
    "            r, x = local_search(best, population[i]) \n",
    "            #print(x)\n",
    "            if r != -1 and (x not in tabu):\n",
    "                #print(\"Better\")\n",
    "                #child.append(population[i])\n",
    "                population = population[:i] + [x] + population[i+1:]\n",
    "                tabu.append(x)\n",
    "                \n",
    "    population.sort(key = fitness)\n",
    "    print(population[0], fitness(population[0]))\n",
    "    \n",
    "    plt.plot(progress)\n",
    "    plt.ylabel('Fitness')\n",
    "    plt.xlabel('Generation')\n",
    "    plt.show()\n",
    "\n",
    "n = 100\n",
    "mem_genentic(500000, 20, 0.02, 8)"
   ]
  },
  {
   "cell_type": "markdown",
   "metadata": {},
   "source": [
    "in about 2500 iterations the answer for n = 100 have been found. the neghibors were first swaping the index 0 with other indexes(10 of them randomly) then in the last iterations i add the i cyclic shifts to them for having more vriety in the neighbors... (here i replaced the better neighbors that are not in tabu list)"
   ]
  }
 ],
 "metadata": {
  "kernelspec": {
   "display_name": "Python 3",
   "language": "python",
   "name": "python3"
  },
  "language_info": {
   "codemirror_mode": {
    "name": "ipython",
    "version": 3
   },
   "file_extension": ".py",
   "mimetype": "text/x-python",
   "name": "python",
   "nbconvert_exporter": "python",
   "pygments_lexer": "ipython3",
   "version": "3.8.3"
  }
 },
 "nbformat": 4,
 "nbformat_minor": 4
}
